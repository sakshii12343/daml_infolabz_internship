{
 "cells": [
  {
   "cell_type": "markdown",
   "id": "0698fc64-29fb-4faf-948a-0000c7bafbb3",
   "metadata": {},
   "source": [
    "## 1. INSHORTS NEWS API"
   ]
  },
  {
   "cell_type": "code",
   "execution_count": 1,
   "id": "3b3c89e1-602c-49a1-a0be-83461455c2ec",
   "metadata": {},
   "outputs": [
    {
     "name": "stdout",
     "output_type": "stream",
     "text": [
      "Requirement already satisfied: requests in c:\\users\\welcome\\appdata\\local\\programs\\python\\python311\\lib\\site-packages (2.31.0)\n",
      "Requirement already satisfied: charset-normalizer<4,>=2 in c:\\users\\welcome\\appdata\\local\\programs\\python\\python311\\lib\\site-packages (from requests) (3.2.0)\n",
      "Requirement already satisfied: idna<4,>=2.5 in c:\\users\\welcome\\appdata\\local\\programs\\python\\python311\\lib\\site-packages (from requests) (3.4)\n",
      "Requirement already satisfied: urllib3<3,>=1.21.1 in c:\\users\\welcome\\appdata\\local\\programs\\python\\python311\\lib\\site-packages (from requests) (2.0.4)\n",
      "Requirement already satisfied: certifi>=2017.4.17 in c:\\users\\welcome\\appdata\\local\\programs\\python\\python311\\lib\\site-packages (from requests) (2023.5.7)\n"
     ]
    },
    {
     "name": "stderr",
     "output_type": "stream",
     "text": [
      "\n",
      "[notice] A new release of pip is available: 23.2 -> 23.2.1\n",
      "[notice] To update, run: python.exe -m pip install --upgrade pip\n"
     ]
    }
   ],
   "source": [
    "!pip install requests"
   ]
  },
  {
   "cell_type": "code",
   "execution_count": 4,
   "id": "69446f73-9d7c-4af9-aafd-418ebb77167c",
   "metadata": {},
   "outputs": [],
   "source": [
    "import requests\n",
    "url=requests.get(\"https://inshortsapi.vercel.app/news?category=all\")"
   ]
  },
  {
   "cell_type": "code",
   "execution_count": 5,
   "id": "99600e71-8123-4069-bd0f-cc9d3ef0f6d4",
   "metadata": {},
   "outputs": [],
   "source": [
    "mydata=url.json()"
   ]
  },
  {
   "cell_type": "markdown",
   "id": "b1f9a751-b457-46a2-b2b2-64f170885a7e",
   "metadata": {},
   "source": [
    "## How many main keys are there in this API? Extract and print all keys."
   ]
  },
  {
   "cell_type": "code",
   "execution_count": 7,
   "id": "8b22b5ab-bd14-4193-b0bf-9783e2260455",
   "metadata": {},
   "outputs": [
    {
     "name": "stdout",
     "output_type": "stream",
     "text": [
      "<class 'dict'>\n"
     ]
    }
   ],
   "source": [
    "print(type(mydata))"
   ]
  },
  {
   "cell_type": "code",
   "execution_count": 8,
   "id": "cba700ec-e4fc-42cc-b12d-f1db70d539ee",
   "metadata": {},
   "outputs": [
    {
     "name": "stdout",
     "output_type": "stream",
     "text": [
      "dict_keys(['category', 'data', 'success'])\n"
     ]
    }
   ],
   "source": [
    "print(mydata.keys())"
   ]
  },
  {
   "cell_type": "code",
   "execution_count": 9,
   "id": "e9db5343-2339-4669-ad92-eafbc70eda2b",
   "metadata": {},
   "outputs": [
    {
     "name": "stdout",
     "output_type": "stream",
     "text": [
      "category\n",
      "data\n",
      "success\n"
     ]
    }
   ],
   "source": [
    "for i in mydata:\n",
    "    print(i)"
   ]
  },
  {
   "cell_type": "markdown",
   "id": "3ec85517-8ec0-4270-bf45-06a8e7ae021b",
   "metadata": {},
   "source": [
    "## How many news are available in this API?"
   ]
  },
  {
   "cell_type": "code",
   "execution_count": 12,
   "id": "1e024da0-737f-4592-b097-b7b50f916545",
   "metadata": {},
   "outputs": [
    {
     "name": "stdout",
     "output_type": "stream",
     "text": [
      "Total number of new available: 25\n"
     ]
    }
   ],
   "source": [
    "print(\"Total number of new available:\",len(mydata[\"data\"]))"
   ]
  },
  {
   "cell_type": "markdown",
   "id": "70720328-e9fc-46b6-ae54-b393e66a6762",
   "metadata": {},
   "source": [
    "## Print all news in bellow format.\n",
    "## 1. News content , Author: AUTHOR NAME, DATE: Date of news\n",
    "## 2. News content , Author: AUTHOR NAME, DATE: Date of news\n",
    "## 3. News content , Author: AUTHOR NAME, DATE: Date of news ………."
   ]
  },
  {
   "cell_type": "code",
   "execution_count": 13,
   "id": "18505678-c322-4c43-8d63-24c0c9702101",
   "metadata": {},
   "outputs": [
    {
     "name": "stdout",
     "output_type": "stream",
     "text": [
      "News content: The Allahabad High Court on Thursday allowed the survey at Gyanvapi mosque. The Archaeological Survey of India (ASI) had started the survey on July 24, but it was stayed within hours by the Supreme Court after the mosque committee approached it. The survey seeks to examine the claims of some Hindu petitioners that the mosque was built on a temple. Author Name: Ankush Verma Date: 03 Aug 2023,Thursday\n",
      "News content: Actress Chrisann Pereira has returned to India four months after she was framed in a drugs case in UAE. She was imprisoned for nearly a month in the UAE. Pereira was granted bail after police discovered that drugs were planted on her by a person who wanted to seek revenge from her family. Author Name: Ankush Verma Date: 03 Aug 2023,Thursday\n",
      "News content: Wicketkeeper-batter Punit Bisht, who holds the record for smashing most sixes (17) in a T20 by an Indian, has retired aged 37. Punit played for Delhi, Meghalaya and J&K in his 17-year professional career. Punit had partnered Virat Kohli when the latter came out to bat after demise of his father. Punit scored 9,193 runs in 272 matches across formats. Author Name: Anmol Sharma Date: 03 Aug 2023,Thursday\n",
      "News content: China's cyberspace regulator has said that those aged 16 to 18 should be limited to a maximum of two hours a day on their smartphones. Children aged eight to 16 should get one hour while children under eight should be allowed just eight minutes, it added. The regulator said it wanted providers of smart devices to introduce minor mode programmes. Author Name: Ankush Verma Date: 03 Aug 2023,Thursday\n",
      "News content: Lok Sabha on Wednesday failed to take up the National Capital Territory Of Delhi (Amendment) Bill as Union Home Minister Amit Shah nor the Ministers of State for Home were present in the House at the time. Following this, Opposition parties blamed BJP for the adjournment. Notably, Speaker Om Birla also didn't come to Speaker's seat on the same day. Author Name: Medhaa Gupta Date: 03 Aug 2023,Thursday\n",
      "News content: An Air India Express flight from Kerala's Kochi to UAE's Sharjah made a precautionary landing at Cochin International Airport shortly after takeoff after a passenger reported a suspected burning smell, PTI reported citing an airline source. However, nothing was found during an inspection of the plane after it landed, it said. The incident took place on Wednesday. Author Name: Medhaa Gupta Date: 03 Aug 2023,Thursday\n",
      "News content: Cow-vigilante Bittu Bajrangi, who participated in the VHP yatra in Haryana's Nuh which was attacked sparking communal clashes earlier this week, said swords being carried by people were meant for puja. He also said those carrying guns in the rally had licences for the same. \"We participated in the rally with women and children. Will we attack anyone?\" he asked.  Author Name: Shalini Ojha Date: 03 Aug 2023,Thursday\n",
      "News content: The Railways withdrew its statement in which it said that RPF constable Chetan Singh, who is accused of killing four people inside the Jaipur-Mumbai train, had no medical ailment. On Wednesday, Railways also said Singh would've kept the treatment he was undergoing a \"secret\". About about two hours later, it withdrew the statement and said all aspects are being investigated.  Author Name: Shalini Ojha Date: 03 Aug 2023,Thursday\n",
      "News content: The sheriff of the Georgia county where Donald Trump could get indicted for a fourth time this year said he wouldn't be giving the ex-US President any special treatment. Trump would likely have to pose for a mugshot like any other defendant if he receives indictment for attempting to challenge the 2020 election results, Fulton County Sheriff Pat Labat said.  Author Name: Athira Sasidharan Date: 03 Aug 2023,Thursday\n",
      "News content: Ambuja Cements Limited (ACL) has acquired a 56.74% stake in Sanghi Industries from the latter's existing promoter group Ravi Sanghi and family at an enterprise value of ₹5,000 crore. ACL will make an inter-corporate deposit of ₹300 crore as part of the deal and also make an open offer for 26% stake held by minority stakeholders at ₹114.22/share.  Author Name: Ashley Paul Date: 03 Aug 2023,Thursday\n",
      "News content: While talking about veteran screenwriting duo Salim-Javed, who split in the 1980s, Salim Khan's son-actor Arbaaz Khan said the two are \"in a very good space\" now. \"We, as kids, would've never thought that Javed saab and dad would ever sit across each other and make conversation,\" Arbaaz said. He recalled Javed Akhtar recently met Salim because he was unwell. Author Name: Bhawana Chaudhary Date: 03 Aug 2023,Thursday\n",
      "News content: Reacting to Virat Kohli and Rohit Sharma being rested for the last two ODIs against West Indies, ex-India cricketer Mohammad Kaif said if they wanted a \"break\" then they shouldn't have been part of squad. \"You send a new team if you want to give break to them. WI tour was not that big,\" Kaif stated.  Author Name: Bhuvnesh Ojha Date: 03 Aug 2023,Thursday\n",
      "News content: India all-rounder Shardul Thakur said he cannot play with the \"mentality\" of sealing a spot in the team. \"Whichever series I play, that always boost my confidence because I am only adding experience to my career,\" Thakur stated, adding, he always tries to perform for the team. He picked eight wickets in the three-match ODI series against West Indies. Author Name: Bhuvnesh Ojha Date: 03 Aug 2023,Thursday\n",
      "News content: Ex-Australia captain Ian Chappell said some captains act in a stupid manner by attempting to save boundaries while being happy to give up singles. \"What is better, giving up a couple of boundaries in an over or six easy singles?\" he asked. Talking about wrist spinners, he stated captains feel they can't go with them \"because they're too expensive\". Author Name: Bhuvnesh Ojha Date: 03 Aug 2023,Thursday\n",
      "News content: AFP filed a copyright case against billionaire Elon Musk-owned X over refusal to pay compensation for news posted on the platform. AFP intends to force X to hand over data, allowing estimation of a fair compensation under 'neighbouring rights'. \"They want us to pay 'them' for traffic to their site where they make advertising revenue and we don't!?\" Musk replied. Author Name: Ashley Paul Date: 03 Aug 2023,Thursday\n",
      "News content: Congress leader Rahul Gandhi, who is on a visit to Goa, had dinner with party MLAs from the coastal state on Wednesday night, a party leader said. Gandhi was staying at a hotel near Panaji, a senior party office-bearer said. Earlier on Monday, all Opposition MLAs in Goa including the three Congress MLAs were suspended from the Assembly. Author Name: Subhangi Singh Date: 03 Aug 2023,Thursday\n",
      "News content: Congress leader Adhir Ranjan Chowdhury has urged the Chair to request Lok Sabha Speaker Om Birla to resume presiding over the House proceedings after he didn't take the Speaker's chair on Wednesday. \"[Birla] is our custodian,\" he said. BJP MP Rajendra Agrawal, who is in the Chair, told Chowdhury that he will inform Birla about his request. Author Name: Medhaa Gupta Date: 03 Aug 2023,Thursday\n",
      "News content: Congress leader Jairam Ramesh has said that it is \"quite impossible\" that Union Home Minister Amit Shah and Ministers of State for Home's absence in the Lok Sabha when the Delhi services bill was taken up for debate was \"accidental\". He added that the INDIA alliance was ready for the debate, however, the House had to be adjourned. Author Name: Medhaa Gupta Date: 03 Aug 2023,Thursday\n",
      "News content: While speaking to media after the Allahabad High Court allowed ASI survey at Gyanvapi mosque, petitioner Manju Vyas said, \"Har har Mahadev! The order came in our favour...We're very happy.\" She claimed the court's order has come on the basis of the presence of Hindu signs (trishul, swastika) inside the mosque. Evidences will come forth during the survey, she added. Author Name: Nidhi Sinha Date: 03 Aug 2023,Thursday\n",
      "News content: The locals of Haryana's Nuh, where communal clashes broke out on Monday, said that they are facing troubles after curfew was declared in the district. \"We are facing trouble in procuring ration items...There is an atmosphere of fear around. We are not sending the children outside,\" a resident said. Mobile Internet is also suspended in the Nuh district. Author Name: Subhangi Singh Date: 03 Aug 2023,Thursday\n",
      "News content: US administration was left \"annoyed\" after Ukrainian President Volodymyr Zelenskyy called NATO's conditions for membership \"absurd\" last month, CNBC reported citing a source. Zelenskyy had made the remark before the NATO summit in Lithuania. \"The comments made by Zelenskyy before the last summit did not really resonate well in Washington,\" the source added. Author Name: Bhawana Chaudhary Date: 03 Aug 2023,Thursday\n",
      "News content: The US has ordered all non-emergency government personnel to temporarily evacuate its embassy in Niger following a military coup. \"The US Embassy remains open for limited, emergency services to US citizens,\" US State Department said. \"The US remains committed to our relationship with...people of Niger and to Nigerien democracy. We remain diplomatically engaged at the highest levels,\" it added.  Author Name: Athira Sasidharan Date: 03 Aug 2023,Thursday\n",
      "News content: A man who opened fire on a synagogue in US' Pittsburgh, killing 11 people in the deadliest anti-Semitic attack in the country's history, has been sentenced to death. The 50-year-old was convicted of 63 counts, including 11 counts of obstruction of the free exercise of religious beliefs resulting in death. Seven people were injured in the October 2018 attack.  Author Name: Athira Sasidharan Date: 03 Aug 2023,Thursday\n",
      "News content: GST Council met for its 51st meeting and discussed multiple issues, including imposition of 28% GST on full face value for online gaming, casinos and horse racing. The council's other recommendations include certain amendments in CGST Act and IGST Act. The amendments aim to provide clarity on taxation of supplies in casinos, horse racing and online gaming, among other things. Author Name: Ashley Paul Date: 03 Aug 2023,Thursday\n",
      "News content: Sanjeev Sanyal, member of Economic Advisory Council to the PM, said India's sovereign rating seems to be \"at bottom rung of investment grade\". \"I think this isn't warranted because we actually outperform virtually every other country,\" Sanyal said. \"I have long argued that we should be rated at least one, if not two, rungs above where we are,\" he added. Author Name: Ashley Paul Date: 03 Aug 2023,Thursday\n"
     ]
    }
   ],
   "source": [
    "for i in range(0,len(mydata[\"data\"])):\n",
    "    print(\"News content:\",mydata[\"data\"][i][\"content\"],\n",
    "      \"Author Name:\",mydata[\"data\"][i][\"author\"],\n",
    "      \"Date:\",mydata[\"data\"][i][\"date\"])"
   ]
  },
  {
   "cell_type": "markdown",
   "id": "4e68698e-7c00-4640-b162-9d01bf259050",
   "metadata": {},
   "source": [
    "## 2. ISRO SPACE CRAFTS API"
   ]
  },
  {
   "cell_type": "code",
   "execution_count": 24,
   "id": "d215e762-11c0-464e-8f78-1caa3446179d",
   "metadata": {},
   "outputs": [],
   "source": [
    "url=requests.get(\"https://isro.vercel.app/api/spacecrafts\")\n",
    "mydata1=url.json()"
   ]
  },
  {
   "cell_type": "markdown",
   "id": "45b1bcce-09c4-4a19-9bfb-b500f365714c",
   "metadata": {},
   "source": [
    "## Print all main keys and total number of main keys as well."
   ]
  },
  {
   "cell_type": "code",
   "execution_count": 26,
   "id": "245f5a48-8448-4011-9ead-e974bcd543d4",
   "metadata": {},
   "outputs": [
    {
     "name": "stdout",
     "output_type": "stream",
     "text": [
      "dict_keys(['spacecrafts'])\n"
     ]
    }
   ],
   "source": [
    "print(mydata1.keys())"
   ]
  },
  {
   "cell_type": "code",
   "execution_count": 28,
   "id": "364230e8-b01f-48ac-b868-b739ba828734",
   "metadata": {},
   "outputs": [
    {
     "name": "stdout",
     "output_type": "stream",
     "text": [
      "spacecrafts\n"
     ]
    }
   ],
   "source": [
    "for i in (mydata1):\n",
    "    print(i)"
   ]
  },
  {
   "cell_type": "markdown",
   "id": "67902644-12b9-484e-9a62-d7e08c22208e",
   "metadata": {},
   "source": [
    "## Print all spacecrafts names as per below output format"
   ]
  },
  {
   "cell_type": "code",
   "execution_count": 34,
   "id": "70bb62e3-83e7-440e-8f66-70be345bf034",
   "metadata": {},
   "outputs": [
    {
     "name": "stdout",
     "output_type": "stream",
     "text": [
      "ID: 1 NAME: Aryabhata\n",
      "ID: 2 NAME: Bhaskara-I\n",
      "ID: 3 NAME: Rohini Technology Payload (RTP)\n",
      "ID: 4 NAME: Rohini Satellite RS-1\n",
      "ID: 5 NAME: Rohini Satellite RS-D1\n",
      "ID: 6 NAME: APPLE\n",
      "ID: 7 NAME: Bhaskara-II\n",
      "ID: 8 NAME: INSAT-1A\n",
      "ID: 9 NAME: Rohini Satellite RS-D2\n",
      "ID: 10 NAME: INSAT-1B\n",
      "ID: 11 NAME: SROSS-1\n",
      "ID: 12 NAME: IRS-1A\n",
      "ID: 13 NAME: SROSS-2\n",
      "ID: 14 NAME: INSAT-1C\n",
      "ID: 15 NAME: INSAT-1D\n",
      "ID: 16 NAME: IRS-1B\n",
      "ID: 17 NAME: SROSS-C\n",
      "ID: 18 NAME: INSAT-2A\n",
      "ID: 19 NAME: INSAT-2B\n",
      "ID: 20 NAME: IRS-1E\n",
      "ID: 21 NAME: SROSS-C2\n",
      "ID: 22 NAME: IRS-P2\n",
      "ID: 23 NAME: INSAT-2C\n",
      "ID: 24 NAME: IRS-1C\n",
      "ID: 25 NAME: IRS-P3\n",
      "ID: 26 NAME: INSAT-2D\n",
      "ID: 27 NAME: IRS-1D\n",
      "ID: 28 NAME: INSAT-2E\n",
      "ID: 29 NAME: Oceansat(IRS-P4)\n",
      "ID: 30 NAME: INSAT-3B\n",
      "ID: 31 NAME: GSAT-1\n",
      "ID: 32 NAME: The Technology Experiment Satellite (TES)\n",
      "ID: 33 NAME: INSAT-3C\n",
      "ID: 34 NAME: KALPANA-1\n",
      "ID: 35 NAME: INSAT-3A\n",
      "ID: 36 NAME: GSAT-2\n",
      "ID: 37 NAME: INSAT-3E\n",
      "ID: 38 NAME: IRS-P6 / RESOURCESAT-1\n",
      "ID: 39 NAME: EDUSAT\n",
      "ID: 40 NAME: HAMSAT\n",
      "ID: 41 NAME: CARTOSAT-1\n",
      "ID: 42 NAME: INSAT-4A\n",
      "ID: 43 NAME: INSAT-4C\n",
      "ID: 44 NAME: SRE-1\n",
      "ID: 45 NAME: CARTOSAT-2\n",
      "ID: 46 NAME: INSAT-4B\n",
      "ID: 47 NAME: INSAT-4CR\n",
      "ID: 48 NAME: CARTOSAT – 2A\n",
      "ID: 49 NAME: IMS-1\n",
      "ID: 50 NAME: Chandrayaan-1\n",
      "ID: 51 NAME: RISAT-2\n",
      "ID: 52 NAME: Oceansat-2\n",
      "ID: 53 NAME: GSAT-4\n",
      "ID: 54 NAME: CARTOSAT-2B\n",
      "ID: 55 NAME: GSAT-5P\n",
      "ID: 56 NAME: YOUTHSAT\n",
      "ID: 57 NAME: RESOURCESAT-2\n",
      "ID: 58 NAME: GSAT-8\n",
      "ID: 59 NAME: GSAT-12\n",
      "ID: 60 NAME: Megha-Tropiques\n",
      "ID: 61 NAME: RISAT-1\n",
      "ID: 62 NAME: GSAT-10\n",
      "ID: 63 NAME: SARAL\n",
      "ID: 64 NAME: IRNSS-1A\n",
      "ID: 65 NAME: INSAT-3D\n",
      "ID: 66 NAME: GSAT-7\n",
      "ID: 67 NAME: Mars Orbiter Mission Spacecraft\n",
      "ID: 68 NAME: GSAT-14\n",
      "ID: 69 NAME: IRNSS-1B\n",
      "ID: 70 NAME: IRNSS-1C\n",
      "ID: 71 NAME: GSAT-16\n",
      "ID: 72 NAME: Crew module Atmospheric Re-entry Experiment (CARE)\n",
      "ID: 73 NAME: IRNSS-1D\n",
      "ID: 74 NAME: GSAT-6\n",
      "ID: 75 NAME: Astrosat\n",
      "ID: 76 NAME: GSAT-15\n",
      "ID: 77 NAME: IRNSS-1E\n",
      "ID: 78 NAME: IRNSS-1F\n",
      "ID: 79 NAME: IRNSS-1G\n",
      "ID: 80 NAME: CARTOSAT-2 Series Satellite\n",
      "ID: 81 NAME: INSAT-3DR\n",
      "ID: 82 NAME: SCATSAT-1\n",
      "ID: 83 NAME: GSAT-18\n",
      "ID: 84 NAME: RESOURCESAT-2A\n",
      "ID: 85 NAME: INS-1B\n",
      "ID: 86 NAME: INS-1A\n",
      "ID: 87 NAME: Cartosat -2 Series Satellite\n",
      "ID: 88 NAME: GSAT-9\n",
      "ID: 89 NAME: GSAT-19\n",
      "ID: 90 NAME: Cartosat-2 Series Satellite\n",
      "ID: 91 NAME: GSAT-17\n",
      "ID: 92 NAME: IRNSS-1H\n",
      "ID: 93 NAME: INS-1C\n",
      "ID: 94 NAME: Cartosat-2 Series Satellite\n",
      "ID: 95 NAME: Microsat\n",
      "ID: 96 NAME: GSAT-6A\n",
      "ID: 97 NAME: IRNSS-1I\n",
      "ID: 98 NAME: GSAT-29\n",
      "ID: 99 NAME: HysIS\n",
      "ID: 100 NAME: GSAT-11 Mission\n",
      "ID: 101 NAME: GSAT-7A\n",
      "ID: 102 NAME: Microsat-R\n",
      "ID: 103 NAME: GSAT-31\n",
      "ID: 104 NAME: EMISAT\n",
      "ID: 105 NAME: RISAT-2B\n",
      "ID: 106 NAME: Chandrayaan2\n",
      "ID: 107 NAME: Cartosat-3\n",
      "ID: 108 NAME: RISAT-2BR1\n",
      "ID: 109 NAME: GSAT-30\n",
      "ID: 110 NAME: EOS-01\n",
      "ID: 111 NAME: CMS-01\n",
      "ID: 112 NAME: EOS-03\n"
     ]
    }
   ],
   "source": [
    "for i in range(0,len(mydata1[\"spacecrafts\"])):\n",
    "    print(\"ID:\",mydata1[\"spacecrafts\"][i][\"id\"],\n",
    "          \"NAME:\",mydata1[\"spacecrafts\"][i][\"name\"])"
   ]
  },
  {
   "cell_type": "code",
   "execution_count": 35,
   "id": "2c49766b-151c-4cb2-aa72-aebe861a6d29",
   "metadata": {},
   "outputs": [
    {
     "name": "stdout",
     "output_type": "stream",
     "text": [
      "NAME: Aryabhata\n",
      "NAME: Bhaskara-I\n",
      "NAME: Rohini Technology Payload (RTP)\n",
      "NAME: Rohini Satellite RS-1\n",
      "NAME: Rohini Satellite RS-D1\n",
      "NAME: APPLE\n",
      "NAME: Bhaskara-II\n",
      "NAME: INSAT-1A\n",
      "NAME: Rohini Satellite RS-D2\n",
      "NAME: INSAT-1B\n",
      "NAME: SROSS-1\n",
      "NAME: IRS-1A\n",
      "NAME: SROSS-2\n",
      "NAME: INSAT-1C\n",
      "NAME: INSAT-1D\n",
      "NAME: IRS-1B\n",
      "NAME: SROSS-C\n",
      "NAME: INSAT-2A\n",
      "NAME: INSAT-2B\n",
      "NAME: IRS-1E\n",
      "NAME: SROSS-C2\n",
      "NAME: IRS-P2\n",
      "NAME: INSAT-2C\n",
      "NAME: IRS-1C\n",
      "NAME: IRS-P3\n",
      "NAME: INSAT-2D\n",
      "NAME: IRS-1D\n",
      "NAME: INSAT-2E\n",
      "NAME: Oceansat(IRS-P4)\n",
      "NAME: INSAT-3B\n",
      "NAME: GSAT-1\n",
      "NAME: The Technology Experiment Satellite (TES)\n",
      "NAME: INSAT-3C\n",
      "NAME: KALPANA-1\n",
      "NAME: INSAT-3A\n",
      "NAME: GSAT-2\n",
      "NAME: INSAT-3E\n",
      "NAME: IRS-P6 / RESOURCESAT-1\n",
      "NAME: EDUSAT\n",
      "NAME: HAMSAT\n",
      "NAME: CARTOSAT-1\n",
      "NAME: INSAT-4A\n",
      "NAME: INSAT-4C\n",
      "NAME: SRE-1\n",
      "NAME: CARTOSAT-2\n",
      "NAME: INSAT-4B\n",
      "NAME: INSAT-4CR\n",
      "NAME: CARTOSAT – 2A\n",
      "NAME: IMS-1\n",
      "NAME: Chandrayaan-1\n",
      "NAME: RISAT-2\n",
      "NAME: Oceansat-2\n",
      "NAME: GSAT-4\n",
      "NAME: CARTOSAT-2B\n",
      "NAME: GSAT-5P\n",
      "NAME: YOUTHSAT\n",
      "NAME: RESOURCESAT-2\n",
      "NAME: GSAT-8\n",
      "NAME: GSAT-12\n",
      "NAME: Megha-Tropiques\n",
      "NAME: RISAT-1\n",
      "NAME: GSAT-10\n",
      "NAME: SARAL\n",
      "NAME: IRNSS-1A\n",
      "NAME: INSAT-3D\n",
      "NAME: GSAT-7\n",
      "NAME: Mars Orbiter Mission Spacecraft\n",
      "NAME: GSAT-14\n",
      "NAME: IRNSS-1B\n",
      "NAME: IRNSS-1C\n",
      "NAME: GSAT-16\n",
      "NAME: Crew module Atmospheric Re-entry Experiment (CARE)\n",
      "NAME: IRNSS-1D\n",
      "NAME: GSAT-6\n",
      "NAME: Astrosat\n",
      "NAME: GSAT-15\n",
      "NAME: IRNSS-1E\n",
      "NAME: IRNSS-1F\n",
      "NAME: IRNSS-1G\n",
      "NAME: CARTOSAT-2 Series Satellite\n",
      "NAME: INSAT-3DR\n",
      "NAME: SCATSAT-1\n",
      "NAME: GSAT-18\n",
      "NAME: RESOURCESAT-2A\n",
      "NAME: INS-1B\n",
      "NAME: INS-1A\n",
      "NAME: Cartosat -2 Series Satellite\n",
      "NAME: GSAT-9\n",
      "NAME: GSAT-19\n",
      "NAME: Cartosat-2 Series Satellite\n",
      "NAME: GSAT-17\n",
      "NAME: IRNSS-1H\n",
      "NAME: INS-1C\n",
      "NAME: Cartosat-2 Series Satellite\n",
      "NAME: Microsat\n",
      "NAME: GSAT-6A\n",
      "NAME: IRNSS-1I\n",
      "NAME: GSAT-29\n",
      "NAME: HysIS\n",
      "NAME: GSAT-11 Mission\n",
      "NAME: GSAT-7A\n",
      "NAME: Microsat-R\n",
      "NAME: GSAT-31\n",
      "NAME: EMISAT\n",
      "NAME: RISAT-2B\n",
      "NAME: Chandrayaan2\n",
      "NAME: Cartosat-3\n",
      "NAME: RISAT-2BR1\n",
      "NAME: GSAT-30\n",
      "NAME: EOS-01\n",
      "NAME: CMS-01\n",
      "NAME: EOS-03\n"
     ]
    }
   ],
   "source": [
    "for i in range(0,len(mydata1[\"spacecrafts\"])):\n",
    "    print(\"NAME:\",mydata1[\"spacecrafts\"][i][\"name\"])"
   ]
  },
  {
   "cell_type": "markdown",
   "id": "3e066a1a-6fa8-45a0-b3b2-9df1e2c214e3",
   "metadata": {},
   "source": [
    "## Allow user to enter name of spacecraft. Print spacecraft is found or spacecraft not found"
   ]
  },
  {
   "cell_type": "code",
   "execution_count": 37,
   "id": "3351870a-1fa8-4d49-b602-fb78e97b2f42",
   "metadata": {},
   "outputs": [
    {
     "name": "stdin",
     "output_type": "stream",
     "text": [
      "Enter ID:  17\n"
     ]
    },
    {
     "name": "stdout",
     "output_type": "stream",
     "text": [
      "ID: 17\n",
      "NAME: SROSS-C\n"
     ]
    }
   ],
   "source": [
    "userDate = input(\"Enter ID: \")\n",
    "\n",
    "found_data = False\n",
    "for item in mydata1[\"spacecrafts\"]:\n",
    "  if userDate == str(item[\"id\"]):\n",
    "        print(\"ID:\", item[\"id\"])\n",
    "        print(\"NAME:\", item[\"name\"])\n",
    "        found_data = True\n",
    "        break\n",
    "\n",
    "if not found_data:\n",
    "    print(\"Not found!\", userDate)"
   ]
  },
  {
   "cell_type": "markdown",
   "id": "a72b9164-ed6a-49cb-9b8d-95760f0f8e38",
   "metadata": {},
   "source": [
    "## 3. ISRO CUSTOMER API"
   ]
  },
  {
   "cell_type": "markdown",
   "id": "4ca0a03f-9913-4ff0-9114-a42d0fb75d30",
   "metadata": {},
   "source": [
    "## TRY TO GENERATE PIE CHART INDICATING PERCENTAGE OF ISRO’S OWN SPACECRAFTS VS CUSTOMER SATELLITES FROM ABOVE API(s) FOR ANALYSIS OF DOMESTIC VS FOREIGN CUSTOMER INVOLVEMENT."
   ]
  },
  {
   "cell_type": "code",
   "execution_count": 23,
   "id": "888c8685-1d67-413d-b340-6243a3e03c20",
   "metadata": {},
   "outputs": [
    {
     "name": "stdout",
     "output_type": "stream",
     "text": [
      "Requirement already satisfied: requests in c:\\users\\welcome\\appdata\\local\\programs\\python\\python311\\lib\\site-packages (2.31.0)\n",
      "Requirement already satisfied: matplotlib in c:\\users\\welcome\\appdata\\local\\programs\\python\\python311\\lib\\site-packages (3.7.2)\n",
      "Requirement already satisfied: charset-normalizer<4,>=2 in c:\\users\\welcome\\appdata\\local\\programs\\python\\python311\\lib\\site-packages (from requests) (3.2.0)\n",
      "Requirement already satisfied: idna<4,>=2.5 in c:\\users\\welcome\\appdata\\local\\programs\\python\\python311\\lib\\site-packages (from requests) (3.4)\n",
      "Requirement already satisfied: urllib3<3,>=1.21.1 in c:\\users\\welcome\\appdata\\local\\programs\\python\\python311\\lib\\site-packages (from requests) (2.0.4)\n",
      "Requirement already satisfied: certifi>=2017.4.17 in c:\\users\\welcome\\appdata\\local\\programs\\python\\python311\\lib\\site-packages (from requests) (2023.5.7)\n",
      "Requirement already satisfied: contourpy>=1.0.1 in c:\\users\\welcome\\appdata\\local\\programs\\python\\python311\\lib\\site-packages (from matplotlib) (1.1.0)\n",
      "Requirement already satisfied: cycler>=0.10 in c:\\users\\welcome\\appdata\\local\\programs\\python\\python311\\lib\\site-packages (from matplotlib) (0.11.0)\n",
      "Requirement already satisfied: fonttools>=4.22.0 in c:\\users\\welcome\\appdata\\local\\programs\\python\\python311\\lib\\site-packages (from matplotlib) (4.41.1)\n",
      "Requirement already satisfied: kiwisolver>=1.0.1 in c:\\users\\welcome\\appdata\\local\\programs\\python\\python311\\lib\\site-packages (from matplotlib) (1.4.4)\n",
      "Requirement already satisfied: numpy>=1.20 in c:\\users\\welcome\\appdata\\local\\programs\\python\\python311\\lib\\site-packages (from matplotlib) (1.25.1)\n",
      "Requirement already satisfied: packaging>=20.0 in c:\\users\\welcome\\appdata\\local\\programs\\python\\python311\\lib\\site-packages (from matplotlib) (23.1)\n",
      "Requirement already satisfied: pillow>=6.2.0 in c:\\users\\welcome\\appdata\\local\\programs\\python\\python311\\lib\\site-packages (from matplotlib) (10.0.0)\n",
      "Requirement already satisfied: pyparsing<3.1,>=2.3.1 in c:\\users\\welcome\\appdata\\local\\programs\\python\\python311\\lib\\site-packages (from matplotlib) (3.0.9)\n",
      "Requirement already satisfied: python-dateutil>=2.7 in c:\\users\\welcome\\appdata\\local\\programs\\python\\python311\\lib\\site-packages (from matplotlib) (2.8.2)\n",
      "Requirement already satisfied: six>=1.5 in c:\\users\\welcome\\appdata\\local\\programs\\python\\python311\\lib\\site-packages (from python-dateutil>=2.7->matplotlib) (1.16.0)\n"
     ]
    },
    {
     "name": "stderr",
     "output_type": "stream",
     "text": [
      "\n",
      "[notice] A new release of pip is available: 23.2 -> 23.2.1\n",
      "[notice] To update, run: python.exe -m pip install --upgrade pip\n"
     ]
    }
   ],
   "source": [
    "!pip install requests matplotlib"
   ]
  },
  {
   "cell_type": "code",
   "execution_count": null,
   "id": "8f813bf5-2f9b-49bd-a832-64def20adb36",
   "metadata": {},
   "outputs": [],
   "source": [
    "## import requests\n",
    "\n",
    "# API endpoints\n",
    "url1 = \"https://isro.vercel.app/api/customer_satellites\"\n",
    "url2 = \"https://isro.vercel.app/api/spacecrafts\"\n",
    "\n",
    "# Fetch data from the APIs\n",
    "response1 = requests.get(url1)\n",
    "response2 = requests.get(url2)\n",
    "\n",
    "# Parse JSON data\n",
    "data1 = response1.json()\n",
    "data2 = response2.json()"
   ]
  },
  {
   "cell_type": "code",
   "execution_count": 25,
   "id": "69d7c49a-a3a0-4f97-bf12-2589020c873e",
   "metadata": {},
   "outputs": [],
   "source": [
    "# Extract data from API response\n",
    "num_isro_spacecrafts = len(data2[\"spacecrafts\"])\n",
    "num_customer_satellites = len(data1[\"customer_satellites\"])\n",
    "\n",
    "# Calculate percentages\n",
    "total = num_isro_spacecrafts + num_customer_satellites\n",
    "percentage_isro = (num_isro_spacecrafts / total) * 100\n",
    "percentage_customer = (num_customer_satellites / total) * 100"
   ]
  },
  {
   "cell_type": "code",
   "execution_count": 27,
   "id": "3e24cb6e-4df5-44f5-a2fc-ef78357c02c8",
   "metadata": {},
   "outputs": [
    {
     "data": {
      "image/png": "[encoded data removed]",
      "text/plain": [
       "<Figure size 640x480 with 1 Axes>"
      ]
     },
     "metadata": {},
     "output_type": "display_data"
    }
   ],
   "source": [
    "import matplotlib.pyplot as plt\n",
    "\n",
    "# Data for the pie chart\n",
    "labels = ['Domestic', 'Foreign']\n",
    "sizes = [percentage_isro, percentage_customer]\n",
    "colors = ['#5579c6', '#29c5f6']\n",
    "\n",
    "# Create the pie chart\n",
    "plt.pie(sizes, labels=labels, colors=colors, autopct='%1.1f%%', startangle=140)\n",
    "\n",
    "# Aspect ratio ensures the pie chart is circular\n",
    "plt.axis('equal')\n",
    "\n",
    "# Display the chart\n",
    "plt.show()"
   ]
  },
  {
   "cell_type": "markdown",
   "id": "17b15bca-fadb-42de-985c-4420667ff5a8",
   "metadata": {},
   "source": [
    "## 4. CONCEPT OF DYNAMIC API:"
   ]
  },
  {
   "cell_type": "code",
   "execution_count": 1,
   "id": "c42c04d6-6546-44bf-8e9b-439b246c746f",
   "metadata": {},
   "outputs": [
    {
     "name": "stdin",
     "output_type": "stream",
     "text": [
      "Enter a PIN code:  361008\n"
     ]
    },
    {
     "name": "stdout",
     "output_type": "stream",
     "text": [
      "Areas under PIN code 361008:\n",
      "1. Medical Campus\n",
      "2. Navagam Ghed\n",
      "3. Patel Colony\n"
     ]
    }
   ],
   "source": [
    "import requests\n",
    "\n",
    "def get_areas_by_pincode(pincode):\n",
    "    url = f\"https://api.postalpincode.in/pincode/{pincode}\"\n",
    "    response = requests.get(url)\n",
    "\n",
    "    if response.status_code == 200:\n",
    "        data = response.json()\n",
    "        areas = data[0]['PostOffice']\n",
    "        return [area['Name'] for area in areas]\n",
    "    else:\n",
    "        print(\"Error fetching data from API:\", response.status_code)\n",
    "        return []\n",
    "\n",
    "def main():\n",
    "    user_pincode = input(\"Enter a PIN code: \")\n",
    "    areas = get_areas_by_pincode(user_pincode)\n",
    "\n",
    "    if areas:\n",
    "        print(f\"Areas under PIN code {user_pincode}:\")\n",
    "        for idx, area in enumerate(areas, start=1):\n",
    "            print(f\"{idx}. {area}\")\n",
    "    else:\n",
    "        print(\"No areas found for the given PIN code.\")\n",
    "\n",
    "if __name__ == \"__main__\":\n",
    "    main()"
   ]
  },
  {
   "cell_type": "code",
   "execution_count": 2,
   "id": "78fc6b55-0d91-4e29-86d0-ee82439cd92c",
   "metadata": {},
   "outputs": [
    {
     "name": "stdout",
     "output_type": "stream",
     "text": [
      "Postal Code Area Lookup Menu:\n",
      "1. Lookup areas by PIN code\n",
      "2. Exit\n"
     ]
    },
    {
     "name": "stdin",
     "output_type": "stream",
     "text": [
      "Enter your choice:  1\n",
      "Enter a PIN code:  361008\n"
     ]
    },
    {
     "name": "stdout",
     "output_type": "stream",
     "text": [
      "Areas under PIN code 361008:\n",
      "1. Medical Campus\n",
      "2. Navagam Ghed\n",
      "3. Patel Colony\n",
      "Postal Code Area Lookup Menu:\n",
      "1. Lookup areas by PIN code\n",
      "2. Exit\n"
     ]
    },
    {
     "name": "stdin",
     "output_type": "stream",
     "text": [
      "Enter your choice:  2\n"
     ]
    },
    {
     "name": "stdout",
     "output_type": "stream",
     "text": [
      "Exiting...\n"
     ]
    }
   ],
   "source": [
    "import requests\n",
    "\n",
    "def get_areas_by_pincode(pincode):\n",
    "    url = f\"https://api.postalpincode.in/pincode/{pincode}\"\n",
    "    response = requests.get(url)\n",
    "\n",
    "    if response.status_code == 200:\n",
    "        data = response.json()\n",
    "        areas = data[0]['PostOffice']\n",
    "        return [area['Name'] for area in areas]\n",
    "    else:\n",
    "        print(\"Error fetching data from API:\", response.status_code)\n",
    "        return []\n",
    "\n",
    "def main():\n",
    "    while True:\n",
    "        print(\"Postal Code Area Lookup Menu:\")\n",
    "        print(\"1. Lookup areas by PIN code\")\n",
    "        print(\"2. Exit\")\n",
    "\n",
    "        choice = input(\"Enter your choice: \")\n",
    "\n",
    "        if choice == \"1\":\n",
    "            user_pincode = input(\"Enter a PIN code: \")\n",
    "            areas = get_areas_by_pincode(user_pincode)\n",
    "\n",
    "            if areas:\n",
    "                print(f\"Areas under PIN code {user_pincode}:\")\n",
    "                for idx, area in enumerate(areas, start=1):\n",
    "                    print(f\"{idx}. {area}\")\n",
    "            else:\n",
    "                print(\"No areas found for the given PIN code.\")\n",
    "        elif choice == \"2\":\n",
    "            print(\"Exiting...\")\n",
    "            break\n",
    "        else:\n",
    "            print(\"Invalid choice. Please select a valid option.\")\n",
    "\n",
    "if __name__ == \"__main__\":\n",
    "    main()"
   ]
  },
  {
   "cell_type": "code",
   "execution_count": null,
   "id": "8e44ae2f-af7c-48a9-a71f-ea2e57effce3",
   "metadata": {},
   "outputs": [],
   "source": []
  }
 ],
 "metadata": {
  "kernelspec": {
   "display_name": "Python 3 (ipykernel)",
   "language": "python",
   "name": "python3"
  },
  "language_info": {
   "codemirror_mode": {
    "name": "ipython",
    "version": 3
   },
   "file_extension": ".py",
   "mimetype": "text/x-python",
   "name": "python",
   "nbconvert_exporter": "python",
   "pygments_lexer": "ipython3",
   "version": "3.11.4"
  }
 },
 "nbformat": 4,
 "nbformat_minor": 5
}
