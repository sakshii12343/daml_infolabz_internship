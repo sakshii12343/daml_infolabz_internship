{
 "cells": [
  {
   "cell_type": "code",
   "execution_count": 1,
   "id": "6e3359b3-ffdf-4546-b8e5-56a914c26f8a",
   "metadata": {},
   "outputs": [
    {
     "name": "stdout",
     "output_type": "stream",
     "text": [
      "Requirement already satisfied: requests in c:\\users\\welcome\\appdata\\local\\programs\\python\\python311\\lib\\site-packages (2.31.0)\n",
      "Requirement already satisfied: charset-normalizer<4,>=2 in c:\\users\\welcome\\appdata\\local\\programs\\python\\python311\\lib\\site-packages (from requests) (3.2.0)\n",
      "Requirement already satisfied: idna<4,>=2.5 in c:\\users\\welcome\\appdata\\local\\programs\\python\\python311\\lib\\site-packages (from requests) (3.4)\n",
      "Requirement already satisfied: urllib3<3,>=1.21.1 in c:\\users\\welcome\\appdata\\local\\programs\\python\\python311\\lib\\site-packages (from requests) (2.0.4)\n",
      "Requirement already satisfied: certifi>=2017.4.17 in c:\\users\\welcome\\appdata\\local\\programs\\python\\python311\\lib\\site-packages (from requests) (2023.5.7)\n"
     ]
    },
    {
     "name": "stderr",
     "output_type": "stream",
     "text": [
      "\n",
      "[notice] A new release of pip is available: 23.2 -> 23.2.1\n",
      "[notice] To update, run: python.exe -m pip install --upgrade pip\n"
     ]
    }
   ],
   "source": [
    "!pip install requests"
   ]
  },
  {
   "cell_type": "code",
   "execution_count": 2,
   "id": "0b33c622-bf62-4444-8b6c-b36e7d40785a",
   "metadata": {},
   "outputs": [],
   "source": [
    "import requests\n",
    "url=requests.get(\"https://isro.vercel.app/api/spacecrafts\")"
   ]
  },
  {
   "cell_type": "code",
   "execution_count": 3,
   "id": "94cc928f-f1d4-4242-8903-3063e86b2e8c",
   "metadata": {},
   "outputs": [],
   "source": [
    "mydata=url.json()"
   ]
  },
  {
   "cell_type": "markdown",
   "id": "24d816d7-c27b-454a-b590-cc2e9e1c6db1",
   "metadata": {},
   "source": [
    "## Print total count"
   ]
  },
  {
   "cell_type": "code",
   "execution_count": 4,
   "id": "47904f60-595c-4bde-9c74-4583d8b7270f",
   "metadata": {},
   "outputs": [
    {
     "name": "stdout",
     "output_type": "stream",
     "text": [
      "dict_keys(['spacecrafts'])\n"
     ]
    }
   ],
   "source": [
    "## Need to print main keys\n",
    "print(mydata.keys())"
   ]
  },
  {
   "cell_type": "code",
   "execution_count": 5,
   "id": "bc558418-f466-45f5-8f48-780cfd25b2fb",
   "metadata": {},
   "outputs": [
    {
     "name": "stdout",
     "output_type": "stream",
     "text": [
      "Total number of days: 112\n"
     ]
    }
   ],
   "source": [
    "print(\"Total number of days:\",len(mydata[\"spacecrafts\"]))"
   ]
  },
  {
   "cell_type": "markdown",
   "id": "77ce9c6f-be93-4384-93b1-d35a32f00c81",
   "metadata": {},
   "source": [
    "## Print all data using FOR loop (id:—-, name:——)"
   ]
  },
  {
   "cell_type": "code",
   "execution_count": 6,
   "id": "4b6cc104-d7fc-44fc-9609-4e8ef812cd97",
   "metadata": {},
   "outputs": [
    {
     "name": "stdout",
     "output_type": "stream",
     "text": [
      "ID: 1 NAME: Aryabhata\n",
      "ID: 2 NAME: Bhaskara-I\n",
      "ID: 3 NAME: Rohini Technology Payload (RTP)\n",
      "ID: 4 NAME: Rohini Satellite RS-1\n",
      "ID: 5 NAME: Rohini Satellite RS-D1\n",
      "ID: 6 NAME: APPLE\n",
      "ID: 7 NAME: Bhaskara-II\n",
      "ID: 8 NAME: INSAT-1A\n",
      "ID: 9 NAME: Rohini Satellite RS-D2\n",
      "ID: 10 NAME: INSAT-1B\n",
      "ID: 11 NAME: SROSS-1\n",
      "ID: 12 NAME: IRS-1A\n",
      "ID: 13 NAME: SROSS-2\n",
      "ID: 14 NAME: INSAT-1C\n",
      "ID: 15 NAME: INSAT-1D\n",
      "ID: 16 NAME: IRS-1B\n",
      "ID: 17 NAME: SROSS-C\n",
      "ID: 18 NAME: INSAT-2A\n",
      "ID: 19 NAME: INSAT-2B\n",
      "ID: 20 NAME: IRS-1E\n",
      "ID: 21 NAME: SROSS-C2\n",
      "ID: 22 NAME: IRS-P2\n",
      "ID: 23 NAME: INSAT-2C\n",
      "ID: 24 NAME: IRS-1C\n",
      "ID: 25 NAME: IRS-P3\n",
      "ID: 26 NAME: INSAT-2D\n",
      "ID: 27 NAME: IRS-1D\n",
      "ID: 28 NAME: INSAT-2E\n",
      "ID: 29 NAME: Oceansat(IRS-P4)\n",
      "ID: 30 NAME: INSAT-3B\n",
      "ID: 31 NAME: GSAT-1\n",
      "ID: 32 NAME: The Technology Experiment Satellite (TES)\n",
      "ID: 33 NAME: INSAT-3C\n",
      "ID: 34 NAME: KALPANA-1\n",
      "ID: 35 NAME: INSAT-3A\n",
      "ID: 36 NAME: GSAT-2\n",
      "ID: 37 NAME: INSAT-3E\n",
      "ID: 38 NAME: IRS-P6 / RESOURCESAT-1\n",
      "ID: 39 NAME: EDUSAT\n",
      "ID: 40 NAME: HAMSAT\n",
      "ID: 41 NAME: CARTOSAT-1\n",
      "ID: 42 NAME: INSAT-4A\n",
      "ID: 43 NAME: INSAT-4C\n",
      "ID: 44 NAME: SRE-1\n",
      "ID: 45 NAME: CARTOSAT-2\n",
      "ID: 46 NAME: INSAT-4B\n",
      "ID: 47 NAME: INSAT-4CR\n",
      "ID: 48 NAME: CARTOSAT – 2A\n",
      "ID: 49 NAME: IMS-1\n",
      "ID: 50 NAME: Chandrayaan-1\n",
      "ID: 51 NAME: RISAT-2\n",
      "ID: 52 NAME: Oceansat-2\n",
      "ID: 53 NAME: GSAT-4\n",
      "ID: 54 NAME: CARTOSAT-2B\n",
      "ID: 55 NAME: GSAT-5P\n",
      "ID: 56 NAME: YOUTHSAT\n",
      "ID: 57 NAME: RESOURCESAT-2\n",
      "ID: 58 NAME: GSAT-8\n",
      "ID: 59 NAME: GSAT-12\n",
      "ID: 60 NAME: Megha-Tropiques\n",
      "ID: 61 NAME: RISAT-1\n",
      "ID: 62 NAME: GSAT-10\n",
      "ID: 63 NAME: SARAL\n",
      "ID: 64 NAME: IRNSS-1A\n",
      "ID: 65 NAME: INSAT-3D\n",
      "ID: 66 NAME: GSAT-7\n",
      "ID: 67 NAME: Mars Orbiter Mission Spacecraft\n",
      "ID: 68 NAME: GSAT-14\n",
      "ID: 69 NAME: IRNSS-1B\n",
      "ID: 70 NAME: IRNSS-1C\n",
      "ID: 71 NAME: GSAT-16\n",
      "ID: 72 NAME: Crew module Atmospheric Re-entry Experiment (CARE)\n",
      "ID: 73 NAME: IRNSS-1D\n",
      "ID: 74 NAME: GSAT-6\n",
      "ID: 75 NAME: Astrosat\n",
      "ID: 76 NAME: GSAT-15\n",
      "ID: 77 NAME: IRNSS-1E\n",
      "ID: 78 NAME: IRNSS-1F\n",
      "ID: 79 NAME: IRNSS-1G\n",
      "ID: 80 NAME: CARTOSAT-2 Series Satellite\n",
      "ID: 81 NAME: INSAT-3DR\n",
      "ID: 82 NAME: SCATSAT-1\n",
      "ID: 83 NAME: GSAT-18\n",
      "ID: 84 NAME: RESOURCESAT-2A\n",
      "ID: 85 NAME: INS-1B\n",
      "ID: 86 NAME: INS-1A\n",
      "ID: 87 NAME: Cartosat -2 Series Satellite\n",
      "ID: 88 NAME: GSAT-9\n",
      "ID: 89 NAME: GSAT-19\n",
      "ID: 90 NAME: Cartosat-2 Series Satellite\n",
      "ID: 91 NAME: GSAT-17\n",
      "ID: 92 NAME: IRNSS-1H\n",
      "ID: 93 NAME: INS-1C\n",
      "ID: 94 NAME: Cartosat-2 Series Satellite\n",
      "ID: 95 NAME: Microsat\n",
      "ID: 96 NAME: GSAT-6A\n",
      "ID: 97 NAME: IRNSS-1I\n",
      "ID: 98 NAME: GSAT-29\n",
      "ID: 99 NAME: HysIS\n",
      "ID: 100 NAME: GSAT-11 Mission\n",
      "ID: 101 NAME: GSAT-7A\n",
      "ID: 102 NAME: Microsat-R\n",
      "ID: 103 NAME: GSAT-31\n",
      "ID: 104 NAME: EMISAT\n",
      "ID: 105 NAME: RISAT-2B\n",
      "ID: 106 NAME: Chandrayaan2\n",
      "ID: 107 NAME: Cartosat-3\n",
      "ID: 108 NAME: RISAT-2BR1\n",
      "ID: 109 NAME: GSAT-30\n",
      "ID: 110 NAME: EOS-01\n",
      "ID: 111 NAME: CMS-01\n",
      "ID: 112 NAME: EOS-03\n"
     ]
    }
   ],
   "source": [
    "for i in range(0,len(mydata[\"spacecrafts\"])):\n",
    "    print(\"ID:\",mydata[\"spacecrafts\"][i][\"id\"],\n",
    "          \"NAME:\",mydata[\"spacecrafts\"][i][\"name\"])"
   ]
  },
  {
   "cell_type": "markdown",
   "id": "e440a1ff-8861-49cb-97c1-84a3e0d2ee79",
   "metadata": {},
   "source": [
    "## Allow user to insert id → print spacecraft name or print id not found"
   ]
  },
  {
   "cell_type": "code",
   "execution_count": 6,
   "id": "a0185e70-55e2-46c9-a795-0b62c7151dcb",
   "metadata": {},
   "outputs": [
    {
     "name": "stdin",
     "output_type": "stream",
     "text": [
      "Enter ID:  17\n"
     ]
    },
    {
     "name": "stdout",
     "output_type": "stream",
     "text": [
      "ID: 17\n",
      "NAME: SROSS-C\n"
     ]
    }
   ],
   "source": [
    "userDate = input(\"Enter ID: \")\n",
    "\n",
    "found_data = False\n",
    "for item in mydata[\"spacecrafts\"]:\n",
    "  if userDate == str(item[\"id\"]):\n",
    "        print(\"ID:\", item[\"id\"])\n",
    "        print(\"NAME:\", item[\"name\"])\n",
    "        found_data = True\n",
    "        break\n",
    "\n",
    "if not found_data:\n",
    "    print(\"Not found!\", userDate)"
   ]
  },
  {
   "cell_type": "code",
   "execution_count": null,
   "id": "9da4508e-6820-4af7-b15c-46d05a40ac9b",
   "metadata": {},
   "outputs": [],
   "source": []
  }
 ],
 "metadata": {
  "kernelspec": {
   "display_name": "Python 3 (ipykernel)",
   "language": "python",
   "name": "python3"
  },
  "language_info": {
   "codemirror_mode": {
    "name": "ipython",
    "version": 3
   },
   "file_extension": ".py",
   "mimetype": "text/x-python",
   "name": "python",
   "nbconvert_exporter": "python",
   "pygments_lexer": "ipython3",
   "version": "3.11.4"
  }
 },
 "nbformat": 4,
 "nbformat_minor": 5
}
