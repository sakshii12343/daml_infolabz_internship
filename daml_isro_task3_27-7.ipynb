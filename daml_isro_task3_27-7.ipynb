{
 "cells": [
  {
   "cell_type": "code",
   "execution_count": 14,
   "id": "bc87a69e-b2b9-4814-ae64-a08cd61c0c92",
   "metadata": {},
   "outputs": [
    {
     "name": "stdout",
     "output_type": "stream",
     "text": [
      "Requirement already satisfied: requests in c:\\users\\welcome\\appdata\\local\\programs\\python\\python311\\lib\\site-packages (2.31.0)\n",
      "Requirement already satisfied: charset-normalizer<4,>=2 in c:\\users\\welcome\\appdata\\local\\programs\\python\\python311\\lib\\site-packages (from requests) (3.2.0)\n",
      "Requirement already satisfied: idna<4,>=2.5 in c:\\users\\welcome\\appdata\\local\\programs\\python\\python311\\lib\\site-packages (from requests) (3.4)\n",
      "Requirement already satisfied: urllib3<3,>=1.21.1 in c:\\users\\welcome\\appdata\\local\\programs\\python\\python311\\lib\\site-packages (from requests) (2.0.4)\n",
      "Requirement already satisfied: certifi>=2017.4.17 in c:\\users\\welcome\\appdata\\local\\programs\\python\\python311\\lib\\site-packages (from requests) (2023.5.7)\n"
     ]
    }
   ],
   "source": [
    "!pip install requests"
   ]
  },
  {
   "cell_type": "code",
   "execution_count": 15,
   "id": "1157f568-1dff-412a-b86e-b9c2c42c3536",
   "metadata": {},
   "outputs": [],
   "source": [
    "import requests\n",
    "url=requests.get(\"https://isro.vercel.app/api/spacecrafts\")"
   ]
  },
  {
   "cell_type": "code",
   "execution_count": 3,
   "id": "5771944b-ec50-4b2d-92c2-013c281d549f",
   "metadata": {},
   "outputs": [],
   "source": [
    "mydata = url.json()"
   ]
  },
  {
   "cell_type": "code",
   "execution_count": 4,
   "id": "86d553e3-f74a-48d8-b096-cf884032d5ba",
   "metadata": {},
   "outputs": [
    {
     "name": "stdout",
     "output_type": "stream",
     "text": [
      "{'spacecrafts': [{'id': 1, 'name': 'Aryabhata'}, {'id': 2, 'name': 'Bhaskara-I'}, {'id': 3, 'name': 'Rohini Technology Payload (RTP)'}, {'id': 4, 'name': 'Rohini Satellite RS-1'}, {'id': 5, 'name': 'Rohini Satellite RS-D1'}, {'id': 6, 'name': 'APPLE'}, {'id': 7, 'name': 'Bhaskara-II'}, {'id': 8, 'name': 'INSAT-1A'}, {'id': 9, 'name': 'Rohini Satellite RS-D2'}, {'id': 10, 'name': 'INSAT-1B'}, {'id': 11, 'name': 'SROSS-1'}, {'id': 12, 'name': 'IRS-1A'}, {'id': 13, 'name': 'SROSS-2'}, {'id': 14, 'name': 'INSAT-1C'}, {'id': 15, 'name': 'INSAT-1D'}, {'id': 16, 'name': 'IRS-1B'}, {'id': 17, 'name': 'SROSS-C'}, {'id': 18, 'name': 'INSAT-2A'}, {'id': 19, 'name': 'INSAT-2B'}, {'id': 20, 'name': 'IRS-1E'}, {'id': 21, 'name': 'SROSS-C2'}, {'id': 22, 'name': 'IRS-P2'}, {'id': 23, 'name': 'INSAT-2C'}, {'id': 24, 'name': 'IRS-1C'}, {'id': 25, 'name': 'IRS-P3'}, {'id': 26, 'name': 'INSAT-2D'}, {'id': 27, 'name': 'IRS-1D'}, {'id': 28, 'name': 'INSAT-2E'}, {'id': 29, 'name': 'Oceansat(IRS-P4)'}, {'id': 30, 'name': 'INSAT-3B'}, {'id': 31, 'name': 'GSAT-1'}, {'id': 32, 'name': 'The Technology Experiment Satellite (TES)'}, {'id': 33, 'name': 'INSAT-3C'}, {'id': 34, 'name': 'KALPANA-1'}, {'id': 35, 'name': 'INSAT-3A'}, {'id': 36, 'name': 'GSAT-2'}, {'id': 37, 'name': 'INSAT-3E'}, {'id': 38, 'name': 'IRS-P6 / RESOURCESAT-1'}, {'id': 39, 'name': 'EDUSAT'}, {'id': 40, 'name': 'HAMSAT'}, {'id': 41, 'name': 'CARTOSAT-1'}, {'id': 42, 'name': 'INSAT-4A'}, {'id': 43, 'name': 'INSAT-4C'}, {'id': 44, 'name': 'SRE-1'}, {'id': 45, 'name': 'CARTOSAT-2'}, {'id': 46, 'name': 'INSAT-4B'}, {'id': 47, 'name': 'INSAT-4CR'}, {'id': 48, 'name': 'CARTOSAT – 2A'}, {'id': 49, 'name': 'IMS-1'}, {'id': 50, 'name': 'Chandrayaan-1'}, {'id': 51, 'name': 'RISAT-2'}, {'id': 52, 'name': 'Oceansat-2'}, {'id': 53, 'name': 'GSAT-4'}, {'id': 54, 'name': 'CARTOSAT-2B'}, {'id': 55, 'name': 'GSAT-5P'}, {'id': 56, 'name': 'YOUTHSAT'}, {'id': 57, 'name': 'RESOURCESAT-2'}, {'id': 58, 'name': 'GSAT-8'}, {'id': 59, 'name': 'GSAT-12'}, {'id': 60, 'name': 'Megha-Tropiques'}, {'id': 61, 'name': 'RISAT-1'}, {'id': 62, 'name': 'GSAT-10'}, {'id': 63, 'name': 'SARAL'}, {'id': 64, 'name': 'IRNSS-1A'}, {'id': 65, 'name': 'INSAT-3D'}, {'id': 66, 'name': 'GSAT-7'}, {'id': 67, 'name': 'Mars Orbiter Mission Spacecraft'}, {'id': 68, 'name': 'GSAT-14'}, {'id': 69, 'name': 'IRNSS-1B'}, {'id': 70, 'name': 'IRNSS-1C'}, {'id': 71, 'name': 'GSAT-16'}, {'id': 72, 'name': 'Crew module Atmospheric Re-entry Experiment (CARE)'}, {'id': 73, 'name': 'IRNSS-1D'}, {'id': 74, 'name': 'GSAT-6'}, {'id': 75, 'name': 'Astrosat'}, {'id': 76, 'name': 'GSAT-15'}, {'id': 77, 'name': 'IRNSS-1E'}, {'id': 78, 'name': 'IRNSS-1F'}, {'id': 79, 'name': 'IRNSS-1G'}, {'id': 80, 'name': 'CARTOSAT-2 Series Satellite'}, {'id': 81, 'name': 'INSAT-3DR'}, {'id': 82, 'name': 'SCATSAT-1'}, {'id': 83, 'name': 'GSAT-18'}, {'id': 84, 'name': 'RESOURCESAT-2A'}, {'id': 85, 'name': 'INS-1B'}, {'id': 86, 'name': 'INS-1A'}, {'id': 87, 'name': 'Cartosat -2 Series Satellite'}, {'id': 88, 'name': 'GSAT-9'}, {'id': 89, 'name': 'GSAT-19'}, {'id': 90, 'name': 'Cartosat-2 Series Satellite'}, {'id': 91, 'name': 'GSAT-17'}, {'id': 92, 'name': 'IRNSS-1H'}, {'id': 93, 'name': 'INS-1C'}, {'id': 94, 'name': 'Cartosat-2 Series Satellite'}, {'id': 95, 'name': 'Microsat'}, {'id': 96, 'name': 'GSAT-6A'}, {'id': 97, 'name': 'IRNSS-1I'}, {'id': 98, 'name': 'GSAT-29'}, {'id': 99, 'name': 'HysIS'}, {'id': 100, 'name': 'GSAT-11 Mission'}, {'id': 101, 'name': 'GSAT-7A'}, {'id': 102, 'name': 'Microsat-R'}, {'id': 103, 'name': 'GSAT-31'}, {'id': 104, 'name': 'EMISAT'}, {'id': 105, 'name': 'RISAT-2B'}, {'id': 106, 'name': 'Chandrayaan2'}, {'id': 107, 'name': 'Cartosat-3'}, {'id': 108, 'name': 'RISAT-2BR1'}, {'id': 109, 'name': 'GSAT-30'}, {'id': 110, 'name': 'EOS-01'}, {'id': 111, 'name': 'CMS-01'}, {'id': 112, 'name': 'EOS-03'}]}\n"
     ]
    }
   ],
   "source": [
    "print(mydata)"
   ]
  },
  {
   "cell_type": "markdown",
   "id": "2891a1dd-080e-4d91-b716-68cb00d74530",
   "metadata": {},
   "source": [
    "## printing main keys"
   ]
  },
  {
   "cell_type": "code",
   "execution_count": 5,
   "id": "34f04bd5-c3b4-42e2-be32-f2f2155f3e71",
   "metadata": {},
   "outputs": [
    {
     "name": "stdout",
     "output_type": "stream",
     "text": [
      "dict_keys(['spacecrafts'])\n"
     ]
    }
   ],
   "source": [
    "print(mydata.keys())"
   ]
  },
  {
   "cell_type": "markdown",
   "id": "031bc0b0-fa43-4914-a500-264a039cd20d",
   "metadata": {},
   "source": [
    "## by another method using for loop print main keys"
   ]
  },
  {
   "cell_type": "code",
   "execution_count": 6,
   "id": "90e457bd-69d7-429f-bff5-7540cae63d09",
   "metadata": {},
   "outputs": [
    {
     "name": "stdout",
     "output_type": "stream",
     "text": [
      "spacecrafts\n"
     ]
    }
   ],
   "source": [
    "for i in mydata:\n",
    "    print(i)"
   ]
  },
  {
   "cell_type": "markdown",
   "id": "2f853c63-ead8-401e-9b8e-8cd9ab9b6967",
   "metadata": {},
   "source": [
    "## printing Aryabhata"
   ]
  },
  {
   "cell_type": "code",
   "execution_count": 18,
   "id": "5f6d687e-456d-4559-9b75-bc34202a894a",
   "metadata": {},
   "outputs": [
    {
     "name": "stdout",
     "output_type": "stream",
     "text": [
      "Aryabhata\n"
     ]
    }
   ],
   "source": [
    "print(mydata[\"spacecrafts\"][0]['name'])"
   ]
  },
  {
   "cell_type": "code",
   "execution_count": null,
   "id": "7112b0f9-a02c-4397-8fe7-074865d02562",
   "metadata": {},
   "outputs": [],
   "source": []
  }
 ],
 "metadata": {
  "kernelspec": {
   "display_name": "Python 3 (ipykernel)",
   "language": "python",
   "name": "python3"
  },
  "language_info": {
   "codemirror_mode": {
    "name": "ipython",
    "version": 3
   },
   "file_extension": ".py",
   "mimetype": "text/x-python",
   "name": "python",
   "nbconvert_exporter": "python",
   "pygments_lexer": "ipython3",
   "version": "3.11.4"
  }
 },
 "nbformat": 4,
 "nbformat_minor": 5
}
