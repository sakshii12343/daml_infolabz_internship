{
 "cells": [
  {
   "cell_type": "code",
   "execution_count": 1,
   "id": "b4fbae23-bf15-4366-944c-f37b8ab59785",
   "metadata": {},
   "outputs": [
    {
     "name": "stdout",
     "output_type": "stream",
     "text": [
      "Requirement already satisfied: requests in c:\\users\\welcome\\appdata\\local\\programs\\python\\python311\\lib\\site-packages (2.31.0)\n",
      "Requirement already satisfied: charset-normalizer<4,>=2 in c:\\users\\welcome\\appdata\\local\\programs\\python\\python311\\lib\\site-packages (from requests) (3.2.0)\n",
      "Requirement already satisfied: idna<4,>=2.5 in c:\\users\\welcome\\appdata\\local\\programs\\python\\python311\\lib\\site-packages (from requests) (3.4)\n",
      "Requirement already satisfied: urllib3<3,>=1.21.1 in c:\\users\\welcome\\appdata\\local\\programs\\python\\python311\\lib\\site-packages (from requests) (2.0.4)\n",
      "Requirement already satisfied: certifi>=2017.4.17 in c:\\users\\welcome\\appdata\\local\\programs\\python\\python311\\lib\\site-packages (from requests) (2023.5.7)\n"
     ]
    }
   ],
   "source": [
    "!pip install requests"
   ]
  },
  {
   "cell_type": "code",
   "execution_count": 8,
   "id": "6a110f7c-9a16-455b-8973-3f078ff37d6f",
   "metadata": {},
   "outputs": [],
   "source": [
    "import requests\n",
    "url=requests.get(\"https://api.mfapi.in/mf\")"
   ]
  },
  {
   "cell_type": "code",
   "execution_count": 9,
   "id": "4efecfb4-272b-4556-823d-345349a1a616",
   "metadata": {},
   "outputs": [],
   "source": [
    "mydata = url.json()"
   ]
  },
  {
   "cell_type": "code",
   "execution_count": 11,
   "id": "b74794e6-3019-453b-98d7-9fe17c2cb69f",
   "metadata": {},
   "outputs": [
    {
     "name": "stdout",
     "output_type": "stream",
     "text": [
      "<class 'list'>\n"
     ]
    }
   ],
   "source": [
    "print(type(mydata))"
   ]
  },
  {
   "cell_type": "markdown",
   "id": "2aaa2afd-ca46-47ab-af23-e550e3b10d7f",
   "metadata": {},
   "source": [
    "## printing 10027"
   ]
  },
  {
   "cell_type": "code",
   "execution_count": 15,
   "id": "1b3e4adc-16d5-4ca0-9e19-3872ec2ff63b",
   "metadata": {},
   "outputs": [
    {
     "name": "stdout",
     "output_type": "stream",
     "text": [
      "100027\n"
     ]
    }
   ],
   "source": [
    "print(mydata[0]['schemeCode'])"
   ]
  },
  {
   "cell_type": "code",
   "execution_count": null,
   "id": "ef74ddbe-a9f7-4ee2-8b0d-d7fbe9fa489a",
   "metadata": {},
   "outputs": [],
   "source": []
  }
 ],
 "metadata": {
  "kernelspec": {
   "display_name": "Python 3 (ipykernel)",
   "language": "python",
   "name": "python3"
  },
  "language_info": {
   "codemirror_mode": {
    "name": "ipython",
    "version": 3
   },
   "file_extension": ".py",
   "mimetype": "text/x-python",
   "name": "python",
   "nbconvert_exporter": "python",
   "pygments_lexer": "ipython3",
   "version": "3.11.4"
  }
 },
 "nbformat": 4,
 "nbformat_minor": 5
}
