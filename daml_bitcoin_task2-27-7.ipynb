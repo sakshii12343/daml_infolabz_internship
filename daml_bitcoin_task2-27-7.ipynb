{
 "cells": [
  {
   "cell_type": "code",
   "execution_count": 1,
   "id": "5a5f7e87-0d5b-4036-b0ff-e6b4e981816d",
   "metadata": {},
   "outputs": [
    {
     "name": "stdout",
     "output_type": "stream",
     "text": [
      "Requirement already satisfied: requests in c:\\users\\welcome\\appdata\\local\\programs\\python\\python311\\lib\\site-packages (2.31.0)\n",
      "Requirement already satisfied: charset-normalizer<4,>=2 in c:\\users\\welcome\\appdata\\local\\programs\\python\\python311\\lib\\site-packages (from requests) (3.2.0)\n",
      "Requirement already satisfied: idna<4,>=2.5 in c:\\users\\welcome\\appdata\\local\\programs\\python\\python311\\lib\\site-packages (from requests) (3.4)\n",
      "Requirement already satisfied: urllib3<3,>=1.21.1 in c:\\users\\welcome\\appdata\\local\\programs\\python\\python311\\lib\\site-packages (from requests) (2.0.4)\n",
      "Requirement already satisfied: certifi>=2017.4.17 in c:\\users\\welcome\\appdata\\local\\programs\\python\\python311\\lib\\site-packages (from requests) (2023.5.7)\n"
     ]
    }
   ],
   "source": [
    "!pip install requests"
   ]
  },
  {
   "cell_type": "code",
   "execution_count": 2,
   "id": "e402c94e-3881-4492-ba1d-3e82c6ebe67f",
   "metadata": {},
   "outputs": [],
   "source": [
    "import requests\n",
    "url=requests.get(\"https://api.coindesk.com/v1/bpi/currentprice.json\")"
   ]
  },
  {
   "cell_type": "code",
   "execution_count": 3,
   "id": "a9695288-a3d9-4d88-a10e-054d7b9f9cdb",
   "metadata": {},
   "outputs": [],
   "source": [
    "mydata = url.json()"
   ]
  },
  {
   "cell_type": "code",
   "execution_count": 4,
   "id": "0406c769-b4bb-4882-bd21-0dd066f3b2b5",
   "metadata": {},
   "outputs": [
    {
     "name": "stdout",
     "output_type": "stream",
     "text": [
      "{'time': {'updated': 'Jul 28, 2023 06:25:00 UTC', 'updatedISO': '2023-07-28T06:25:00+00:00', 'updateduk': 'Jul 28, 2023 at 07:25 BST'}, 'disclaimer': 'This data was produced from the CoinDesk Bitcoin Price Index (USD). Non-USD currency data converted using hourly conversion rate from openexchangerates.org', 'chartName': 'Bitcoin', 'bpi': {'USD': {'code': 'USD', 'symbol': '&#36;', 'rate': '29,170.9967', 'description': 'United States Dollar', 'rate_float': 29170.9967}, 'GBP': {'code': 'GBP', 'symbol': '&pound;', 'rate': '24,375.0515', 'description': 'British Pound Sterling', 'rate_float': 24375.0515}, 'EUR': {'code': 'EUR', 'symbol': '&euro;', 'rate': '28,416.8097', 'description': 'Euro', 'rate_float': 28416.8097}}}\n"
     ]
    }
   ],
   "source": [
    "print(mydata)"
   ]
  },
  {
   "cell_type": "code",
   "execution_count": 5,
   "id": "9c953a06-033e-4972-9686-8080f88493e7",
   "metadata": {},
   "outputs": [
    {
     "name": "stdout",
     "output_type": "stream",
     "text": [
      "{'time': {'updated': 'Jul 28, 2023 06:25:00 UTC', 'updatedISO': '2023-07-28T06:25:00+00:00', 'updateduk': 'Jul 28, 2023 at 07:25 BST'}, 'disclaimer': 'This data was produced from the CoinDesk Bitcoin Price Index (USD). Non-USD currency data converted using hourly conversion rate from openexchangerates.org', 'chartName': 'Bitcoin', 'bpi': {'USD': {'code': 'USD', 'symbol': '&#36;', 'rate': '29,170.9967', 'description': 'United States Dollar', 'rate_float': 29170.9967}, 'GBP': {'code': 'GBP', 'symbol': '&pound;', 'rate': '24,375.0515', 'description': 'British Pound Sterling', 'rate_float': 24375.0515}, 'EUR': {'code': 'EUR', 'symbol': '&euro;', 'rate': '28,416.8097', 'description': 'Euro', 'rate_float': 28416.8097}}}\n"
     ]
    }
   ],
   "source": [
    "print(mydata)"
   ]
  },
  {
   "cell_type": "markdown",
   "id": "65564c28-01b0-45fe-9b61-8cfdca006cf5",
   "metadata": {},
   "source": [
    "## printing main keys"
   ]
  },
  {
   "cell_type": "code",
   "execution_count": 6,
   "id": "66291a4d-7c5b-4578-be76-9c6aa9f80935",
   "metadata": {},
   "outputs": [
    {
     "name": "stdout",
     "output_type": "stream",
     "text": [
      "dict_keys(['time', 'disclaimer', 'chartName', 'bpi'])\n"
     ]
    }
   ],
   "source": [
    "print(mydata.keys())"
   ]
  },
  {
   "cell_type": "markdown",
   "id": "72c02cc8-22fd-4c4f-8818-91b79a80d09a",
   "metadata": {},
   "source": [
    "## by another method using for loop print main keys"
   ]
  },
  {
   "cell_type": "code",
   "execution_count": 7,
   "id": "9f1fd6ae-ccb1-4390-8cfa-b3b73e874c8b",
   "metadata": {},
   "outputs": [
    {
     "name": "stdout",
     "output_type": "stream",
     "text": [
      "time\n",
      "disclaimer\n",
      "chartName\n",
      "bpi\n"
     ]
    }
   ],
   "source": [
    "for i in mydata:\n",
    "    print(i)"
   ]
  },
  {
   "cell_type": "markdown",
   "id": "5594f8e9-dab8-48ee-b87f-8cca2681a123",
   "metadata": {},
   "source": [
    "## printing live price in usd"
   ]
  },
  {
   "cell_type": "code",
   "execution_count": 9,
   "id": "1732a8d1-e2cd-416b-9338-f203c8c2ba98",
   "metadata": {},
   "outputs": [],
   "source": [
    "# Send a GET request to the API and get the JSON response\n",
    "response = requests.get(\"https://api.coindesk.com/v1/bpi/currentprice.json\")"
   ]
  },
  {
   "cell_type": "code",
   "execution_count": 10,
   "id": "f55192df-ff0d-4f8d-8659-981210abac85",
   "metadata": {},
   "outputs": [],
   "source": [
    "# Parse the JSON data\n",
    "data = response.json()"
   ]
  },
  {
   "cell_type": "code",
   "execution_count": 11,
   "id": "51c5daf3-b581-44f0-a08a-d0cab740d740",
   "metadata": {},
   "outputs": [],
   "source": [
    "# Extract the live price in USD from the JSON data\n",
    "usd_price = data[\"bpi\"][\"USD\"][\"rate\"]"
   ]
  },
  {
   "cell_type": "code",
   "execution_count": 12,
   "id": "68c8e4bc-77e0-4e84-af17-6c099932901d",
   "metadata": {},
   "outputs": [
    {
     "name": "stdout",
     "output_type": "stream",
     "text": [
      "Live Price in USD: 29,172.2005\n"
     ]
    }
   ],
   "source": [
    "# Print the live price in USD\n",
    "print(\"Live Price in USD:\", usd_price)"
   ]
  },
  {
   "cell_type": "code",
   "execution_count": null,
   "id": "fadd35ae-6b91-4cd6-8119-98c11d33a7fc",
   "metadata": {},
   "outputs": [],
   "source": []
  }
 ],
 "metadata": {
  "kernelspec": {
   "display_name": "Python 3 (ipykernel)",
   "language": "python",
   "name": "python3"
  },
  "language_info": {
   "codemirror_mode": {
    "name": "ipython",
    "version": 3
   },
   "file_extension": ".py",
   "mimetype": "text/x-python",
   "name": "python",
   "nbconvert_exporter": "python",
   "pygments_lexer": "ipython3",
   "version": "3.11.4"
  }
 },
 "nbformat": 4,
 "nbformat_minor": 5
}
