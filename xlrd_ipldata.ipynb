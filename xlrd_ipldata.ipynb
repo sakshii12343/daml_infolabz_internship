{
  "nbformat": 4,
  "nbformat_minor": 0,
  "metadata": {
    "colab": {
      "provenance": []
    },
    "kernelspec": {
      "name": "python3",
      "display_name": "Python 3"
    },
    "language_info": {
      "name": "python"
    }
  },
  "cells": [
    {
      "cell_type": "code",
      "execution_count": 1,
      "metadata": {
        "colab": {
          "base_uri": "https://localhost:8080/"
        },
        "id": "kzvjIcl4SW_E",
        "outputId": "265373f9-782e-4660-8e5b-9adf6fbeffca"
      },
      "outputs": [
        {
          "output_type": "stream",
          "name": "stdout",
          "text": [
            "Collecting xlrd==1.2.0\n",
            "  Downloading xlrd-1.2.0-py2.py3-none-any.whl (103 kB)\n",
            "\u001b[?25l     \u001b[90m━━━━━━━━━━━━━━━━━━━━━━━━━━━━━━━━━━━━━━━━\u001b[0m \u001b[32m0.0/103.3 kB\u001b[0m \u001b[31m?\u001b[0m eta \u001b[36m-:--:--\u001b[0m\r\u001b[2K     \u001b[90m━━━━━━━━━━━━━━━━━━━━━━━━━━━━━━━━━━━━━━━\u001b[0m \u001b[32m103.3/103.3 kB\u001b[0m \u001b[31m3.3 MB/s\u001b[0m eta \u001b[36m0:00:00\u001b[0m\n",
            "\u001b[?25hInstalling collected packages: xlrd\n",
            "  Attempting uninstall: xlrd\n",
            "    Found existing installation: xlrd 2.0.1\n",
            "    Uninstalling xlrd-2.0.1:\n",
            "      Successfully uninstalled xlrd-2.0.1\n",
            "Successfully installed xlrd-1.2.0\n"
          ]
        }
      ],
      "source": [
        "!pip install xlrd==1.2.0"
      ]
    },
    {
      "cell_type": "code",
      "source": [
        "import xlrd\n",
        "import pandas as pd\n",
        "import openpyxl\n",
        "from openpyxl import load_workbook"
      ],
      "metadata": {
        "id": "wdtlao2mSiN0"
      },
      "execution_count": 14,
      "outputs": []
    },
    {
      "cell_type": "code",
      "source": [
        "xlrd.xlsx.ensure_elementtree_imported(False, None)\n",
        "xlrd.xlsx.Element_has_iter = True"
      ],
      "metadata": {
        "id": "6nRNyNr8TCKJ"
      },
      "execution_count": 33,
      "outputs": []
    },
    {
      "cell_type": "code",
      "source": [
        "loc = (\"IPL.xlsx\")\n",
        "wb = xlrd.open_workbook(loc)\n",
        "sheet = wb.sheet_by_index(0)"
      ],
      "metadata": {
        "id": "nQRYwEgHU7-P"
      },
      "execution_count": 17,
      "outputs": []
    },
    {
      "cell_type": "code",
      "source": [
        "print(sheet.cell_value(0,0))\n",
        "print(sheet.cell_value(0,2))\n",
        "print(sheet.cell_value(3,1))"
      ],
      "metadata": {
        "colab": {
          "base_uri": "https://localhost:8080/"
        },
        "id": "wBhZUCZHVHx3",
        "outputId": "ba31c6c8-14ab-4dd6-ec40-1701d521de71"
      },
      "execution_count": 18,
      "outputs": [
        {
          "output_type": "stream",
          "name": "stdout",
          "text": [
            "CRICKET\n",
            "RAHUL\n",
            "71.0\n"
          ]
        }
      ]
    },
    {
      "cell_type": "code",
      "source": [
        "print(\"Total number of Rows:\",sheet.nrows)\n",
        "print(\"Total number of Columns:\",sheet.ncols)\n",
        "print(\"Total number of Matches:\",sheet.nrows-1)"
      ],
      "metadata": {
        "colab": {
          "base_uri": "https://localhost:8080/"
        },
        "id": "ywI2zF4sVvPA",
        "outputId": "d974e939-f54d-4fe3-fa5e-b862a9624391"
      },
      "execution_count": 19,
      "outputs": [
        {
          "output_type": "stream",
          "name": "stdout",
          "text": [
            "Total number of Rows: 15\n",
            "Total number of Columns: 6\n",
            "Total number of Matches: 14\n"
          ]
        }
      ]
    },
    {
      "cell_type": "code",
      "source": [
        "for i in range(1,sheet.ncols):\n",
        "  print(sheet.cell_value(0,i))"
      ],
      "metadata": {
        "colab": {
          "base_uri": "https://localhost:8080/"
        },
        "id": "oCHerDZAWImP",
        "outputId": "c83b9bdc-e22b-44ce-d059-287907e8fd6b"
      },
      "execution_count": 20,
      "outputs": [
        {
          "output_type": "stream",
          "name": "stdout",
          "text": [
            "BUTTLER\n",
            "RAHUL\n",
            "DEKOCK\n",
            "HARDIK\n",
            "MILLER\n"
          ]
        }
      ]
    },
    {
      "cell_type": "code",
      "source": [
        "userinput = input(\"Enter player name:\")\n",
        "\n",
        "for i in range(1,sheet.ncols):\n",
        "  if userinput == sheet.cell_value(0,i):\n",
        "    print(\"Player found\")\n",
        "    break\n",
        "else:\n",
        "  print(\"Player not found\")"
      ],
      "metadata": {
        "colab": {
          "base_uri": "https://localhost:8080/"
        },
        "id": "9T_PpRo3WWrR",
        "outputId": "0827a1c4-aab5-44a4-f339-86e5043f9ec9"
      },
      "execution_count": 24,
      "outputs": [
        {
          "output_type": "stream",
          "name": "stdout",
          "text": [
            "Enter player name:KOHLI\n",
            "Player not found\n"
          ]
        }
      ]
    },
    {
      "cell_type": "markdown",
      "source": [
        "*FIND PLAYER & PRINT DATE OF ALL MATCH*"
      ],
      "metadata": {
        "id": "PDdCSTosXcBt"
      }
    },
    {
      "cell_type": "code",
      "source": [
        "userinput = input(\"Enter player name:\")\n",
        "\n",
        "for i in range(1,sheet.ncols):\n",
        "  if userinput == sheet.cell_value(0,i):\n",
        "    for j in range(1,sheet.nrows):\n",
        "      print(sheet.cell_value(j,i))\n",
        "  break\n",
        "else:\n",
        "  print(\"Player not found\")"
      ],
      "metadata": {
        "colab": {
          "base_uri": "https://localhost:8080/"
        },
        "id": "agKGcPldXWE1",
        "outputId": "10279f2b-f8d3-4405-c6cd-be548c7d7b27"
      },
      "execution_count": 28,
      "outputs": [
        {
          "output_type": "stream",
          "name": "stdout",
          "text": [
            "Enter player name:BUTTLER\n",
            "35.0\n",
            "100.0\n",
            "71.0\n",
            "12.0\n",
            "54.0\n",
            "103.0\n",
            "116.0\n",
            "8.0\n",
            "67.0\n",
            "22.0\n",
            "30.0\n",
            "7.0\n",
            "2.0\n",
            "2.0\n"
          ]
        }
      ]
    },
    {
      "cell_type": "markdown",
      "source": [
        "**Allow user to insert player name, print total, high & low score & average using any library **"
      ],
      "metadata": {
        "id": "Z2SsdNtDYhcn"
      }
    },
    {
      "cell_type": "code",
      "source": [
        "for i in range(1,sheet.nrows):\n",
        "  print(\"MATCH:\",sheet.cell_value(i,0))\n",
        "  for j in range(1,sheet.ncols):\n",
        "    print(\"Score of\",sheet.cell_value(0,j),\"is\",sheet.cell_value(i,j))"
      ],
      "metadata": {
        "colab": {
          "base_uri": "https://localhost:8080/"
        },
        "id": "ZikJ0wUOY2xd",
        "outputId": "10d07530-2198-4b7e-face-ef4ee09560cd"
      },
      "execution_count": 29,
      "outputs": [
        {
          "output_type": "stream",
          "name": "stdout",
          "text": [
            "MATCH: 1.0\n",
            "Score of BUTTLER is 35.0\n",
            "Score of RAHUL is 0.0\n",
            "Score of DEKOCK is 7.0\n",
            "Score of HARDIK is 33.0\n",
            "Score of MILLER is 30.0\n",
            "MATCH: 2.0\n",
            "Score of BUTTLER is 100.0\n",
            "Score of RAHUL is 40.0\n",
            "Score of DEKOCK is 61.0\n",
            "Score of HARDIK is 31.0\n",
            "Score of MILLER is 20.0\n",
            "MATCH: 3.0\n",
            "Score of BUTTLER is 71.0\n",
            "Score of RAHUL is 68.0\n",
            "Score of DEKOCK is 1.0\n",
            "Score of HARDIK is 27.0\n",
            "Score of MILLER is 6.0\n",
            "MATCH: 4.0\n",
            "Score of BUTTLER is 12.0\n",
            "Score of RAHUL is 24.0\n",
            "Score of DEKOCK is 80.0\n",
            "Score of HARDIK is 50.0\n",
            "Score of MILLER is 12.0\n",
            "MATCH: 5.0\n",
            "Score of BUTTLER is 54.0\n",
            "Score of RAHUL is 0.0\n",
            "Score of DEKOCK is 39.0\n",
            "Score of HARDIK is 87.0\n",
            "Score of MILLER is 31.0\n",
            "MATCH: 6.0\n",
            "Score of BUTTLER is 103.0\n",
            "Score of RAHUL is 103.0\n",
            "Score of DEKOCK is 24.0\n",
            "Score of HARDIK is 67.0\n",
            "Score of MILLER is 94.0\n",
            "MATCH: 7.0\n",
            "Score of BUTTLER is 116.0\n",
            "Score of RAHUL is 30.0\n",
            "Score of DEKOCK is 3.0\n",
            "Score of HARDIK is 10.0\n",
            "Score of MILLER is 27.0\n",
            "MATCH: 8.0\n",
            "Score of BUTTLER is 8.0\n",
            "Score of RAHUL is 103.0\n",
            "Score of DEKOCK is 10.0\n",
            "Score of HARDIK is 3.0\n",
            "Score of MILLER is 17.0\n",
            "MATCH: 9.0\n",
            "Score of BUTTLER is 67.0\n",
            "Score of RAHUL is 6.0\n",
            "Score of DEKOCK is 46.0\n",
            "Score of HARDIK is 1.0\n",
            "Score of MILLER is 39.0\n",
            "MATCH: 10.0\n",
            "Score of BUTTLER is 22.0\n",
            "Score of RAHUL is 77.0\n",
            "Score of DEKOCK is 23.0\n",
            "Score of HARDIK is 24.0\n",
            "Score of MILLER is 11.0\n",
            "MATCH: 11.0\n",
            "Score of BUTTLER is 30.0\n",
            "Score of RAHUL is 0.0\n",
            "Score of DEKOCK is 50.0\n",
            "Score of HARDIK is 11.0\n",
            "Score of MILLER is 19.0\n",
            "MATCH: 12.0\n",
            "Score of BUTTLER is 7.0\n",
            "Score of RAHUL is 8.0\n",
            "Score of DEKOCK is 11.0\n",
            "Score of HARDIK is 7.0\n",
            "Score of MILLER is 26.0\n",
            "MATCH: 13.0\n",
            "Score of BUTTLER is 2.0\n",
            "Score of RAHUL is 10.0\n",
            "Score of DEKOCK is 7.0\n",
            "Score of HARDIK is 62.0\n",
            "Score of MILLER is 15.0\n",
            "MATCH: 14.0\n",
            "Score of BUTTLER is 2.0\n",
            "Score of RAHUL is 68.0\n",
            "Score of DEKOCK is 140.0\n",
            "Score of HARDIK is 40.0\n",
            "Score of MILLER is 34.0\n"
          ]
        }
      ]
    }
  ]
}